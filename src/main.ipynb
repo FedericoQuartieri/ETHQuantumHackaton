{
 "cells": [
  {
   "cell_type": "markdown",
   "metadata": {},
   "source": [
    "# Automatic Compilation for Neutral Atoms Quantum Circuits\n"
   ]
  },
  {
   "cell_type": "markdown",
   "metadata": {},
   "source": [
    "### Imports"
   ]
  },
  {
   "cell_type": "code",
   "execution_count": 20,
   "metadata": {},
   "outputs": [
    {
     "ename": "AttributeError",
     "evalue": "module 'cirq.protocols' has no attribute 'SerializableByKey'",
     "output_type": "error",
     "traceback": [
      "\u001b[0;31m---------------------------------------------------------------------------\u001b[0m",
      "\u001b[0;31mAttributeError\u001b[0m                            Traceback (most recent call last)",
      "Cell \u001b[0;32mIn[20], line 1\u001b[0m\n\u001b[0;32m----> 1\u001b[0m \u001b[38;5;28;01mimport\u001b[39;00m\u001b[38;5;250m \u001b[39m\u001b[38;5;21;01mpasses\u001b[39;00m\n\u001b[1;32m      2\u001b[0m \u001b[38;5;28;01mimport\u001b[39;00m\u001b[38;5;250m \u001b[39m\u001b[38;5;21;01mmetrics\u001b[39;00m\n\u001b[1;32m      3\u001b[0m \u001b[38;5;28;01mfrom\u001b[39;00m\u001b[38;5;250m \u001b[39m\u001b[38;5;21;01mvalidate\u001b[39;00m\u001b[38;5;250m \u001b[39m\u001b[38;5;28;01mimport\u001b[39;00m validate\n",
      "File \u001b[0;32m~/Desktop/Shared/Projects/ETHQuantumHackaton/src/passes.py:7\u001b[0m\n\u001b[1;32m      4\u001b[0m \u001b[38;5;28;01mimport\u001b[39;00m\u001b[38;5;250m \u001b[39m\u001b[38;5;21;01mwarnings\u001b[39;00m\n\u001b[1;32m      5\u001b[0m warnings\u001b[38;5;241m.\u001b[39mfilterwarnings(\u001b[38;5;124m\"\u001b[39m\u001b[38;5;124mignore\u001b[39m\u001b[38;5;124m\"\u001b[39m)\n\u001b[0;32m----> 7\u001b[0m \u001b[38;5;28;01mfrom\u001b[39;00m\u001b[38;5;250m \u001b[39m\u001b[38;5;21;01mbloqade\u001b[39;00m\u001b[38;5;21;01m.\u001b[39;00m\u001b[38;5;21;01mqasm2\u001b[39;00m\u001b[38;5;21;01m.\u001b[39;00m\u001b[38;5;21;01mrewrite\u001b[39;00m\u001b[38;5;21;01m.\u001b[39;00m\u001b[38;5;21;01mnative_gates\u001b[39;00m\u001b[38;5;250m \u001b[39m\u001b[38;5;28;01mimport\u001b[39;00m RydbergGateSetRewriteRule\n\u001b[1;32m      8\u001b[0m \u001b[38;5;28;01mfrom\u001b[39;00m\u001b[38;5;250m \u001b[39m\u001b[38;5;21;01mkirin\u001b[39;00m\u001b[38;5;21;01m.\u001b[39;00m\u001b[38;5;21;01mrewrite\u001b[39;00m\u001b[38;5;250m \u001b[39m\u001b[38;5;28;01mimport\u001b[39;00m Walk\n\u001b[1;32m     10\u001b[0m \u001b[38;5;28;01mdef\u001b[39;00m\u001b[38;5;250m \u001b[39m\u001b[38;5;21mRydbergRewrite\u001b[39m(circuit):\n",
      "File \u001b[0;32m~/Desktop/Shared/Projects/ETHQuantumHackaton/env/lib/python3.10/site-packages/bloqade/qasm2/rewrite/native_gates.py:6\u001b[0m\n\u001b[1;32m      3\u001b[0m \u001b[38;5;28;01mfrom\u001b[39;00m\u001b[38;5;250m \u001b[39m\u001b[38;5;21;01mfunctools\u001b[39;00m\u001b[38;5;250m \u001b[39m\u001b[38;5;28;01mimport\u001b[39;00m cached_property\n\u001b[1;32m      4\u001b[0m \u001b[38;5;28;01mfrom\u001b[39;00m\u001b[38;5;250m \u001b[39m\u001b[38;5;21;01mdataclasses\u001b[39;00m\u001b[38;5;250m \u001b[39m\u001b[38;5;28;01mimport\u001b[39;00m field, dataclass\n\u001b[0;32m----> 6\u001b[0m \u001b[38;5;28;01mimport\u001b[39;00m\u001b[38;5;250m \u001b[39m\u001b[38;5;21;01mcirq\u001b[39;00m\n\u001b[1;32m      7\u001b[0m \u001b[38;5;28;01mimport\u001b[39;00m\u001b[38;5;250m \u001b[39m\u001b[38;5;21;01mnumpy\u001b[39;00m\u001b[38;5;250m \u001b[39m\u001b[38;5;28;01mas\u001b[39;00m\u001b[38;5;250m \u001b[39m\u001b[38;5;21;01mnp\u001b[39;00m\n\u001b[1;32m      8\u001b[0m \u001b[38;5;28;01mimport\u001b[39;00m\u001b[38;5;250m \u001b[39m\u001b[38;5;21;01mcirq\u001b[39;00m\u001b[38;5;21;01m.\u001b[39;00m\u001b[38;5;21;01mtransformers\u001b[39;00m\n",
      "File \u001b[0;32m~/Desktop/Shared/Projects/ETHQuantumHackaton/env/lib/python3.10/site-packages/cirq/__init__.py:42\u001b[0m\n\u001b[1;32m     31\u001b[0m \u001b[38;5;28;01mwith\u001b[39;00m _import\u001b[38;5;241m.\u001b[39mdelay_import(\u001b[38;5;124m'\u001b[39m\u001b[38;5;124mcirq.protocols\u001b[39m\u001b[38;5;124m'\u001b[39m):\n\u001b[1;32m     32\u001b[0m     \u001b[38;5;28;01mfrom\u001b[39;00m\u001b[38;5;250m \u001b[39m\u001b[38;5;21;01mcirq\u001b[39;00m\u001b[38;5;250m \u001b[39m\u001b[38;5;28;01mimport\u001b[39;00m (\n\u001b[1;32m     33\u001b[0m         \u001b[38;5;66;03m# Core\u001b[39;00m\n\u001b[1;32m     34\u001b[0m         protocols,\n\u001b[0;32m   (...)\u001b[0m\n\u001b[1;32m     40\u001b[0m         study,\n\u001b[1;32m     41\u001b[0m     )\n\u001b[0;32m---> 42\u001b[0m \u001b[38;5;28;01mfrom\u001b[39;00m\u001b[38;5;250m \u001b[39m\u001b[38;5;21;01mcirq\u001b[39;00m\u001b[38;5;250m \u001b[39m\u001b[38;5;28;01mimport\u001b[39;00m (\n\u001b[1;32m     43\u001b[0m     \u001b[38;5;66;03m# Core\u001b[39;00m\n\u001b[1;32m     44\u001b[0m     circuits,\n\u001b[1;32m     45\u001b[0m     \u001b[38;5;66;03m# Optimize and run\u001b[39;00m\n\u001b[1;32m     46\u001b[0m     work,\n\u001b[1;32m     47\u001b[0m     sim,\n\u001b[1;32m     48\u001b[0m     vis,\n\u001b[1;32m     49\u001b[0m     \u001b[38;5;66;03m# Hardware specific\u001b[39;00m\n\u001b[1;32m     50\u001b[0m     ion,\n\u001b[1;32m     51\u001b[0m     neutral_atoms,\n\u001b[1;32m     52\u001b[0m     interop,\n\u001b[1;32m     53\u001b[0m     \u001b[38;5;66;03m# Applications\u001b[39;00m\n\u001b[1;32m     54\u001b[0m     experiments,\n\u001b[1;32m     55\u001b[0m     \u001b[38;5;66;03m# Extra (nothing should depend on these)\u001b[39;00m\n\u001b[1;32m     56\u001b[0m     testing,\n\u001b[1;32m     57\u001b[0m )\n\u001b[1;32m     59\u001b[0m \u001b[38;5;66;03m# End dependency order list of sub-modules\u001b[39;00m\n\u001b[1;32m     61\u001b[0m \u001b[38;5;28;01mfrom\u001b[39;00m\u001b[38;5;250m \u001b[39m\u001b[38;5;21;01mcirq\u001b[39;00m\u001b[38;5;21;01m.\u001b[39;00m\u001b[38;5;21;01m_version\u001b[39;00m\u001b[38;5;250m \u001b[39m\u001b[38;5;28;01mimport\u001b[39;00m __version__ \u001b[38;5;28;01mas\u001b[39;00m __version__\n",
      "File \u001b[0;32m~/Desktop/Shared/Projects/ETHQuantumHackaton/env/lib/python3.10/site-packages/cirq/circuits/__init__.py:26\u001b[0m\n\u001b[1;32m     20\u001b[0m \u001b[38;5;28;01mfrom\u001b[39;00m\u001b[38;5;250m \u001b[39m\u001b[38;5;21;01mcirq\u001b[39;00m\u001b[38;5;21;01m.\u001b[39;00m\u001b[38;5;21;01mcircuits\u001b[39;00m\u001b[38;5;21;01m.\u001b[39;00m\u001b[38;5;21;01mcircuit\u001b[39;00m\u001b[38;5;250m \u001b[39m\u001b[38;5;28;01mimport\u001b[39;00m (\n\u001b[1;32m     21\u001b[0m     AbstractCircuit \u001b[38;5;28;01mas\u001b[39;00m AbstractCircuit,\n\u001b[1;32m     22\u001b[0m     Alignment \u001b[38;5;28;01mas\u001b[39;00m Alignment,\n\u001b[1;32m     23\u001b[0m     Circuit \u001b[38;5;28;01mas\u001b[39;00m Circuit,\n\u001b[1;32m     24\u001b[0m )\n\u001b[1;32m     25\u001b[0m \u001b[38;5;28;01mfrom\u001b[39;00m\u001b[38;5;250m \u001b[39m\u001b[38;5;21;01mcirq\u001b[39;00m\u001b[38;5;21;01m.\u001b[39;00m\u001b[38;5;21;01mcircuits\u001b[39;00m\u001b[38;5;21;01m.\u001b[39;00m\u001b[38;5;21;01mcircuit_operation\u001b[39;00m\u001b[38;5;250m \u001b[39m\u001b[38;5;28;01mimport\u001b[39;00m CircuitOperation \u001b[38;5;28;01mas\u001b[39;00m CircuitOperation\n\u001b[0;32m---> 26\u001b[0m \u001b[38;5;28;01mfrom\u001b[39;00m\u001b[38;5;250m \u001b[39m\u001b[38;5;21;01mcirq\u001b[39;00m\u001b[38;5;21;01m.\u001b[39;00m\u001b[38;5;21;01mcircuits\u001b[39;00m\u001b[38;5;21;01m.\u001b[39;00m\u001b[38;5;21;01mfrozen_circuit\u001b[39;00m\u001b[38;5;250m \u001b[39m\u001b[38;5;28;01mimport\u001b[39;00m FrozenCircuit \u001b[38;5;28;01mas\u001b[39;00m FrozenCircuit\n\u001b[1;32m     27\u001b[0m \u001b[38;5;28;01mfrom\u001b[39;00m\u001b[38;5;250m \u001b[39m\u001b[38;5;21;01mcirq\u001b[39;00m\u001b[38;5;21;01m.\u001b[39;00m\u001b[38;5;21;01mcircuits\u001b[39;00m\u001b[38;5;21;01m.\u001b[39;00m\u001b[38;5;21;01minsert_strategy\u001b[39;00m\u001b[38;5;250m \u001b[39m\u001b[38;5;28;01mimport\u001b[39;00m InsertStrategy \u001b[38;5;28;01mas\u001b[39;00m InsertStrategy\n\u001b[1;32m     29\u001b[0m \u001b[38;5;28;01mfrom\u001b[39;00m\u001b[38;5;250m \u001b[39m\u001b[38;5;21;01mcirq\u001b[39;00m\u001b[38;5;21;01m.\u001b[39;00m\u001b[38;5;21;01mcircuits\u001b[39;00m\u001b[38;5;21;01m.\u001b[39;00m\u001b[38;5;21;01mmoment\u001b[39;00m\u001b[38;5;250m \u001b[39m\u001b[38;5;28;01mimport\u001b[39;00m Moment \u001b[38;5;28;01mas\u001b[39;00m Moment\n",
      "File \u001b[0;32m~/Desktop/Shared/Projects/ETHQuantumHackaton/env/lib/python3.10/site-packages/cirq/circuits/frozen_circuit.py:43\u001b[0m\n\u001b[1;32m     39\u001b[0m \u001b[38;5;28;01mif\u001b[39;00m TYPE_CHECKING:\n\u001b[1;32m     40\u001b[0m     \u001b[38;5;28;01mimport\u001b[39;00m\u001b[38;5;250m \u001b[39m\u001b[38;5;21;01mcirq\u001b[39;00m\n\u001b[0;32m---> 43\u001b[0m \u001b[38;5;28;01mclass\u001b[39;00m\u001b[38;5;250m \u001b[39m\u001b[38;5;21;01mFrozenCircuit\u001b[39;00m(AbstractCircuit, \u001b[43mprotocols\u001b[49m\u001b[38;5;241;43m.\u001b[39;49m\u001b[43mSerializableByKey\u001b[49m):\n\u001b[1;32m     44\u001b[0m \u001b[38;5;250m    \u001b[39m\u001b[38;5;124;03m\"\"\"An immutable version of the Circuit data structure.\u001b[39;00m\n\u001b[1;32m     45\u001b[0m \n\u001b[1;32m     46\u001b[0m \u001b[38;5;124;03m    FrozenCircuits are immutable (and therefore hashable), but otherwise behave\u001b[39;00m\n\u001b[1;32m     47\u001b[0m \u001b[38;5;124;03m    identically to regular Circuits. Conversion between the two is handled with\u001b[39;00m\n\u001b[1;32m     48\u001b[0m \u001b[38;5;124;03m    the `freeze` and `unfreeze` methods from AbstractCircuit.\u001b[39;00m\n\u001b[1;32m     49\u001b[0m \u001b[38;5;124;03m    \"\"\"\u001b[39;00m\n\u001b[1;32m     51\u001b[0m     \u001b[38;5;28;01mdef\u001b[39;00m\u001b[38;5;250m \u001b[39m\u001b[38;5;21m__init__\u001b[39m(\n\u001b[1;32m     52\u001b[0m         \u001b[38;5;28mself\u001b[39m,\n\u001b[1;32m     53\u001b[0m         \u001b[38;5;241m*\u001b[39mcontents: cirq\u001b[38;5;241m.\u001b[39mOP_TREE,\n\u001b[1;32m     54\u001b[0m         strategy: cirq\u001b[38;5;241m.\u001b[39mInsertStrategy \u001b[38;5;241m=\u001b[39m InsertStrategy\u001b[38;5;241m.\u001b[39mEARLIEST,\n\u001b[1;32m     55\u001b[0m         tags: Sequence[Hashable] \u001b[38;5;241m=\u001b[39m (),\n\u001b[1;32m     56\u001b[0m     ) \u001b[38;5;241m-\u001b[39m\u001b[38;5;241m>\u001b[39m \u001b[38;5;28;01mNone\u001b[39;00m:\n",
      "\u001b[0;31mAttributeError\u001b[0m: module 'cirq.protocols' has no attribute 'SerializableByKey'"
     ]
    }
   ],
   "source": [
    "import passes\n",
    "import metrics\n",
    "from validate import validate\n",
    "from kirin.ir.method import Method\n",
    "\n",
    "from bloqade import qasm2\n",
    "from bloqade.qasm2.parse.lowering import QASM2\n",
    "from bloqade.qasm2.passes import QASM2Py\n",
    "from bloqade.qasm2.emit import QASM2 as QASM2Target # the QASM2 target\n",
    "from bloqade.qasm2.parse import pprint # the QASM2 pretty printer"
   ]
  },
  {
   "cell_type": "markdown",
   "metadata": {},
   "source": [
    "The following snippet imports all .qasm files from assets/baseline"
   ]
  },
  {
   "cell_type": "code",
   "execution_count": null,
   "metadata": {},
   "outputs": [],
   "source": [
    "programs = utils.importQASM()"
   ]
  },
  {
   "cell_type": "markdown",
   "metadata": {},
   "source": [
    "### Flags\n",
    "\n",
    "These flags control the execution of the program, mainly which outputs are displyed and which optimizations passes are applied"
   ]
  },
  {
   "cell_type": "code",
   "execution_count": null,
   "metadata": {},
   "outputs": [],
   "source": [
    "output_name = \"1\"           \n",
    "# 1 is good\n",
    "# 2 is bad also with NOTHING (even just with RydbergRewrite)\n",
    "# 3 is bad with UToOpParallelise (commenting  nativeParallelise and with our passes brings to 1 fidelity)\n",
    "# 4 is perfect\n",
    "# 4_improved is perfect \n",
    "\n",
    "prettyDebug = False\n",
    "printSSA = False\n",
    "\n",
    "doRydberg = True\n",
    "doNativeParallelisation = True\n",
    "\n",
    "doOurPasses = False\n",
    "doOurPasses_merge = True"
   ]
  },
  {
   "cell_type": "markdown",
   "metadata": {},
   "source": [
    "Optionally output the initial qasm"
   ]
  },
  {
   "cell_type": "code",
   "execution_count": null,
   "metadata": {},
   "outputs": [],
   "source": [
    "target = QASM2Target(allow_parallel=True)\n",
    "program_ast = target.emit(programs[output_name])\n",
    "\n",
    "if prettyDebug:\n",
    "    sep_print(\"Non-translated qasm:\\n\")\n",
    "    pprint(program_ast)\n"
   ]
  },
  {
   "cell_type": "markdown",
   "metadata": {},
   "source": [
    "Select the circuit from the imports (in programs[]) and saves the initial state in qc_initial for the final fidelity evaluation"
   ]
  },
  {
   "cell_type": "code",
   "execution_count": null,
   "metadata": {},
   "outputs": [],
   "source": [
    "circuit: Method = programs[output_name]\n",
    "qc_initial = utils.circuit_to_qiskit(circuit)"
   ]
  },
  {
   "cell_type": "markdown",
   "metadata": {},
   "source": [
    "## Passes\n",
    "Rydberg translates from qasm to native gate set (U3 and CZ)"
   ]
  },
  {
   "cell_type": "code",
   "execution_count": null,
   "metadata": {},
   "outputs": [],
   "source": [
    "if doRydberg:\n",
    "    passes.RydbergRewrite(circuit)\n",
    "\n",
    "print(\"Metrics after RydbergRewrite: \")\n",
    "metrics.print_gate_counts(target.emit(circuit))\n",
    "\n",
    "if printSSA:\n",
    "    print(\"After Rydberg: \")\n",
    "    circuit.print()"
   ]
  },
  {
   "cell_type": "markdown",
   "metadata": {},
   "source": [
    "Remove2PiGates is our pass that removes 2pi rotations and meaningless U gates"
   ]
  },
  {
   "cell_type": "code",
   "execution_count": null,
   "metadata": {},
   "outputs": [],
   "source": [
    "if doOurPasses:\n",
    "    print(\"Doing Remove2PiGates Pass after RydbergRewrite...\")\n",
    "    passes.Remove2PiGates(circuit.dialects)(circuit)\n",
    "if printSSA:\n",
    "    circuit.print()"
   ]
  },
  {
   "cell_type": "markdown",
   "metadata": {},
   "source": [
    "### Merge Pass\n",
    "MergeConsecutiveU is our pass that merges U gates wherever possible to reduce their total number"
   ]
  },
  {
   "cell_type": "code",
   "execution_count": null,
   "metadata": {},
   "outputs": [],
   "source": [
    "if doOurPasses_merge:\n",
    "    print(\"Metrics before MERGE: \")\n",
    "    metrics.print_gate_counts(target.emit(circuit))\n",
    "\n",
    "    print(\"Merging ConsecutiveU\")\n",
    "    passes.MergeConsecutiveU(circuit.dialects)(circuit)\n",
    "\n",
    "    print(\"Metrics after MERGE: \")\n",
    "    metrics.print_gate_counts(target.emit(circuit))\n",
    "if printSSA:\n",
    "    print(\"circuit after MERGE: \")\n",
    "    circuit.print()\n",
    "    print()"
   ]
  },
  {
   "cell_type": "code",
   "execution_count": null,
   "metadata": {},
   "outputs": [],
   "source": [
    "if prettyDebug:\n",
    "    sep_print(\"Unparallelized QASMTarget:\", sleepTimeSec=1)\n",
    "    pprint(target.emit(circuit))"
   ]
  },
  {
   "cell_type": "markdown",
   "metadata": {},
   "source": [
    "### Parallelisation Pass\n",
    "The NativeParallelisationPass applies the native UOpToParallel pass to gather parallel CZ and U gates where possible"
   ]
  },
  {
   "cell_type": "code",
   "execution_count": null,
   "metadata": {},
   "outputs": [],
   "source": [
    "if doNativeParallelisation:\n",
    "    passes.NativeParallelisationPass(circuit)\n",
    "    print(\"Metrics after nativeParallelise: \")\n",
    "    metrics.print_gate_counts(target.emit(circuit))\n",
    "\n",
    "if prettyDebug:\n",
    "    sep_print(\"NativeParallelised circuit: \", sleepTimeSec=2)\n",
    "    pprint(QASM2Target(allow_parallel=False).emit(circuit))\n"
   ]
  },
  {
   "cell_type": "code",
   "execution_count": null,
   "metadata": {},
   "outputs": [],
   "source": [
    "if printSSA:\n",
    "    circuit.print()"
   ]
  },
  {
   "cell_type": "markdown",
   "metadata": {},
   "source": [
    "## Fidelity Evaluation\n",
    "Finally, evaluates the fidelity of the final optimized circuit with respect to the original unoptimized version"
   ]
  },
  {
   "cell_type": "code",
   "execution_count": null,
   "metadata": {},
   "outputs": [],
   "source": [
    "qc_final = utils.circuit_to_qiskit(circuit)\n",
    "\n",
    "fidelity = validate(qc_initial, qc_final)\n",
    "\n",
    "if fidelity > 0.8:\n",
    "    filepath = f\"../out_compiler/{output_name}.qasm\" \n",
    "    print(\"Fidelity high enough. Exporting to QASM \", filepath)\n",
    "    with open(filepath, \"w\") as out:\n",
    "        out.write(target.emit_str(circuit))"
   ]
  },
  {
   "cell_type": "markdown",
   "metadata": {},
   "source": [
    "Display the optimized circuit"
   ]
  },
  {
   "cell_type": "code",
   "execution_count": null,
   "metadata": {},
   "outputs": [],
   "source": [
    "fig = qc_final.draw(output=\"mpl\", fold=120, scale=0.7)\n",
    "display(fig)"
   ]
  }
 ],
 "metadata": {
  "kernelspec": {
   "display_name": "env",
   "language": "python",
   "name": "python3"
  },
  "language_info": {
   "codemirror_mode": {
    "name": "ipython",
    "version": 3
   },
   "file_extension": ".py",
   "mimetype": "text/x-python",
   "name": "python",
   "nbconvert_exporter": "python",
   "pygments_lexer": "ipython3",
   "version": "3.10.12"
  }
 },
 "nbformat": 4,
 "nbformat_minor": 2
}
