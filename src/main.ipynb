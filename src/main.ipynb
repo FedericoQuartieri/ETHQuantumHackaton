{
 "cells": [
  {
   "cell_type": "markdown",
   "metadata": {},
   "source": [
    "# Automatic Compilation for Neutral Atoms Quantum Circuits\n"
   ]
  },
  {
   "cell_type": "markdown",
   "metadata": {},
   "source": [
    "### Imports"
   ]
  },
  {
   "cell_type": "code",
   "execution_count": 7,
   "metadata": {},
   "outputs": [
    {
     "ename": "ValueError",
     "evalue": "Key backend: 'module://matplotlib_inline.backend_inline' is not a valid value for backend; supported values are ['gtk3agg', 'gtk3cairo', 'gtk4agg', 'gtk4cairo', 'macosx', 'nbagg', 'notebook', 'qtagg', 'qtcairo', 'qt5agg', 'qt5cairo', 'tkagg', 'tkcairo', 'webagg', 'wx', 'wxagg', 'wxcairo', 'agg', 'cairo', 'pdf', 'pgf', 'ps', 'svg', 'template']",
     "output_type": "error",
     "traceback": [
      "\u001b[0;31m---------------------------------------------------------------------------\u001b[0m",
      "\u001b[0;31mValueError\u001b[0m                                Traceback (most recent call last)",
      "Cell \u001b[0;32mIn[7], line 4\u001b[0m\n\u001b[1;32m      1\u001b[0m \u001b[38;5;28;01mimport\u001b[39;00m\u001b[38;5;250m \u001b[39m\u001b[38;5;21;01mutils\u001b[39;00m\n\u001b[1;32m      2\u001b[0m \u001b[38;5;28;01mfrom\u001b[39;00m\u001b[38;5;250m \u001b[39m\u001b[38;5;21;01mutils\u001b[39;00m\u001b[38;5;250m \u001b[39m\u001b[38;5;28;01mimport\u001b[39;00m sep_print\n\u001b[0;32m----> 4\u001b[0m \u001b[38;5;28;01mimport\u001b[39;00m\u001b[38;5;250m \u001b[39m\u001b[38;5;21;01mmatplotlib\u001b[39;00m\n\u001b[1;32m      5\u001b[0m \u001b[38;5;28;01mimport\u001b[39;00m\u001b[38;5;250m \u001b[39m\u001b[38;5;21;01msys\u001b[39;00m\n\u001b[1;32m      7\u001b[0m \u001b[38;5;28;01mif\u001b[39;00m \u001b[38;5;124m'\u001b[39m\u001b[38;5;124mipykernel\u001b[39m\u001b[38;5;124m'\u001b[39m \u001b[38;5;129;01min\u001b[39;00m sys\u001b[38;5;241m.\u001b[39mmodules:\n\u001b[1;32m      8\u001b[0m     \u001b[38;5;66;03m# Running in Jupyter\u001b[39;00m\n",
      "File \u001b[0;32m~/Desktop/Shared/Projects/ETHQuantumHackaton/env/lib/python3.10/site-packages/matplotlib/__init__.py:1296\u001b[0m\n\u001b[1;32m   1292\u001b[0m     rcParams[\u001b[38;5;124m'\u001b[39m\u001b[38;5;124mbackend_fallback\u001b[39m\u001b[38;5;124m'\u001b[39m] \u001b[38;5;241m=\u001b[39m \u001b[38;5;28;01mFalse\u001b[39;00m\n\u001b[1;32m   1295\u001b[0m \u001b[38;5;28;01mif\u001b[39;00m os\u001b[38;5;241m.\u001b[39menviron\u001b[38;5;241m.\u001b[39mget(\u001b[38;5;124m'\u001b[39m\u001b[38;5;124mMPLBACKEND\u001b[39m\u001b[38;5;124m'\u001b[39m):\n\u001b[0;32m-> 1296\u001b[0m     \u001b[43mrcParams\u001b[49m\u001b[43m[\u001b[49m\u001b[38;5;124;43m'\u001b[39;49m\u001b[38;5;124;43mbackend\u001b[39;49m\u001b[38;5;124;43m'\u001b[39;49m\u001b[43m]\u001b[49m \u001b[38;5;241m=\u001b[39m os\u001b[38;5;241m.\u001b[39menviron\u001b[38;5;241m.\u001b[39mget(\u001b[38;5;124m'\u001b[39m\u001b[38;5;124mMPLBACKEND\u001b[39m\u001b[38;5;124m'\u001b[39m)\n\u001b[1;32m   1299\u001b[0m \u001b[38;5;28;01mdef\u001b[39;00m\u001b[38;5;250m \u001b[39m\u001b[38;5;21mget_backend\u001b[39m(\u001b[38;5;241m*\u001b[39m, auto_select\u001b[38;5;241m=\u001b[39m\u001b[38;5;28;01mTrue\u001b[39;00m):\n\u001b[1;32m   1300\u001b[0m \u001b[38;5;250m    \u001b[39m\u001b[38;5;124;03m\"\"\"\u001b[39;00m\n\u001b[1;32m   1301\u001b[0m \u001b[38;5;124;03m    Return the name of the current backend.\u001b[39;00m\n\u001b[1;32m   1302\u001b[0m \n\u001b[0;32m   (...)\u001b[0m\n\u001b[1;32m   1320\u001b[0m \u001b[38;5;124;03m    matplotlib.use\u001b[39;00m\n\u001b[1;32m   1321\u001b[0m \u001b[38;5;124;03m    \"\"\"\u001b[39;00m\n",
      "File \u001b[0;32m~/Desktop/Shared/Projects/ETHQuantumHackaton/env/lib/python3.10/site-packages/matplotlib/__init__.py:771\u001b[0m, in \u001b[0;36mRcParams.__setitem__\u001b[0;34m(self, key, val)\u001b[0m\n\u001b[1;32m    769\u001b[0m         cval \u001b[38;5;241m=\u001b[39m \u001b[38;5;28mself\u001b[39m\u001b[38;5;241m.\u001b[39mvalidate[key](val)\n\u001b[1;32m    770\u001b[0m     \u001b[38;5;28;01mexcept\u001b[39;00m \u001b[38;5;167;01mValueError\u001b[39;00m \u001b[38;5;28;01mas\u001b[39;00m ve:\n\u001b[0;32m--> 771\u001b[0m         \u001b[38;5;28;01mraise\u001b[39;00m \u001b[38;5;167;01mValueError\u001b[39;00m(\u001b[38;5;124mf\u001b[39m\u001b[38;5;124m\"\u001b[39m\u001b[38;5;124mKey \u001b[39m\u001b[38;5;132;01m{\u001b[39;00mkey\u001b[38;5;132;01m}\u001b[39;00m\u001b[38;5;124m: \u001b[39m\u001b[38;5;132;01m{\u001b[39;00mve\u001b[38;5;132;01m}\u001b[39;00m\u001b[38;5;124m\"\u001b[39m) \u001b[38;5;28;01mfrom\u001b[39;00m\u001b[38;5;250m \u001b[39m\u001b[38;5;28;01mNone\u001b[39;00m\n\u001b[1;32m    772\u001b[0m     \u001b[38;5;28mself\u001b[39m\u001b[38;5;241m.\u001b[39m_set(key, cval)\n\u001b[1;32m    773\u001b[0m \u001b[38;5;28;01mexcept\u001b[39;00m \u001b[38;5;167;01mKeyError\u001b[39;00m \u001b[38;5;28;01mas\u001b[39;00m err:\n",
      "\u001b[0;31mValueError\u001b[0m: Key backend: 'module://matplotlib_inline.backend_inline' is not a valid value for backend; supported values are ['gtk3agg', 'gtk3cairo', 'gtk4agg', 'gtk4cairo', 'macosx', 'nbagg', 'notebook', 'qtagg', 'qtcairo', 'qt5agg', 'qt5cairo', 'tkagg', 'tkcairo', 'webagg', 'wx', 'wxagg', 'wxcairo', 'agg', 'cairo', 'pdf', 'pgf', 'ps', 'svg', 'template']"
     ]
    }
   ],
   "source": [
    "import utils\n",
    "from utils import sep_print\n",
    "\n",
    "import matplotlib\n",
    "import sys\n",
    "\n",
    "if 'ipykernel' in sys.modules:\n",
    "    # Running in Jupyter\n",
    "    pass  # Use default (inline) backend\n",
    "else:\n",
    "    matplotlib.use('TkAgg')  # or another suitable backend\n",
    "\n",
    "import passes\n",
    "import metrics\n",
    "from validate import validate\n",
    "from kirin.ir.method import Method\n",
    "\n",
    "from bloqade import qasm2\n",
    "from bloqade.qasm2.parse.lowering import QASM2\n",
    "from bloqade.qasm2.passes import QASM2Py\n",
    "from bloqade.qasm2.emit import QASM2 as QASM2Target # the QASM2 target\n",
    "from bloqade.qasm2.parse import pprint # the QASM2 pretty printer"
   ]
  },
  {
   "cell_type": "markdown",
   "metadata": {},
   "source": [
    "The following snippet imports all .qasm files from assets/baseline"
   ]
  },
  {
   "cell_type": "code",
   "execution_count": null,
   "metadata": {},
   "outputs": [],
   "source": [
    "programs = utils.importQASM()"
   ]
  },
  {
   "cell_type": "markdown",
   "metadata": {},
   "source": [
    "### Flags\n",
    "\n",
    "These flags control the execution of the program, mainly which outputs are displyed and which optimizations passes are applied"
   ]
  },
  {
   "cell_type": "code",
   "execution_count": null,
   "metadata": {},
   "outputs": [],
   "source": [
    "output_name = \"1\"           \n",
    "# 1 is good\n",
    "# 2 is bad also with NOTHING (even just with RydbergRewrite)\n",
    "# 3 is bad with UToOpParallelise (commenting  nativeParallelise and with our passes brings to 1 fidelity)\n",
    "# 4 is perfect\n",
    "# 4_improved is perfect \n",
    "\n",
    "prettyDebug = False\n",
    "printSSA = False\n",
    "\n",
    "doRydberg = True\n",
    "doNativeParallelisation = True\n",
    "\n",
    "doOurPasses = False\n",
    "doOurPasses_merge = True"
   ]
  },
  {
   "cell_type": "markdown",
   "metadata": {},
   "source": [
    "Optionally output the initial qasm"
   ]
  },
  {
   "cell_type": "code",
   "execution_count": null,
   "metadata": {},
   "outputs": [],
   "source": [
    "target = QASM2Target(allow_parallel=True)\n",
    "program_ast = target.emit(programs[output_name])\n",
    "\n",
    "if prettyDebug:\n",
    "    sep_print(\"Non-translated qasm:\\n\")\n",
    "    pprint(program_ast)\n"
   ]
  },
  {
   "cell_type": "markdown",
   "metadata": {},
   "source": [
    "Select the circuit from the imports (in programs[]) and saves the initial state in qc_initial for the final fidelity evaluation"
   ]
  },
  {
   "cell_type": "code",
   "execution_count": null,
   "metadata": {},
   "outputs": [],
   "source": [
    "circuit: Method = programs[output_name]\n",
    "qc_initial = utils.circuit_to_qiskit(circuit)"
   ]
  },
  {
   "cell_type": "markdown",
   "metadata": {},
   "source": [
    "## Passes\n",
    "Rydberg translates from qasm to native gate set (U3 and CZ)"
   ]
  },
  {
   "cell_type": "code",
   "execution_count": null,
   "metadata": {},
   "outputs": [],
   "source": [
    "if doRydberg:\n",
    "    passes.RydbergRewrite(circuit)\n",
    "\n",
    "print(\"Metrics after RydbergRewrite: \")\n",
    "metrics.print_gate_counts(target.emit(circuit))\n",
    "\n",
    "if printSSA:\n",
    "    print(\"After Rydberg: \")\n",
    "    circuit.print()"
   ]
  },
  {
   "cell_type": "markdown",
   "metadata": {},
   "source": [
    "Remove2PiGates is our pass that removes 2pi rotations and meaningless U gates"
   ]
  },
  {
   "cell_type": "code",
   "execution_count": null,
   "metadata": {},
   "outputs": [],
   "source": [
    "if doOurPasses:\n",
    "    print(\"Doing Remove2PiGates Pass after RydbergRewrite...\")\n",
    "    passes.Remove2PiGates(circuit.dialects)(circuit)\n",
    "if printSSA:\n",
    "    circuit.print()"
   ]
  },
  {
   "cell_type": "markdown",
   "metadata": {},
   "source": [
    "### Merge Pass\n",
    "MergeConsecutiveU is our pass that merges U gates wherever possible to reduce their total number"
   ]
  },
  {
   "cell_type": "code",
   "execution_count": null,
   "metadata": {},
   "outputs": [],
   "source": [
    "if doOurPasses_merge:\n",
    "    print(\"Metrics before MERGE: \")\n",
    "    metrics.print_gate_counts(target.emit(circuit))\n",
    "\n",
    "    print(\"Merging ConsecutiveU\")\n",
    "    passes.MergeConsecutiveU(circuit.dialects)(circuit)\n",
    "\n",
    "    print(\"Metrics after MERGE: \")\n",
    "    metrics.print_gate_counts(target.emit(circuit))\n",
    "if printSSA:\n",
    "    print(\"circuit after MERGE: \")\n",
    "    circuit.print()\n",
    "    print()"
   ]
  },
  {
   "cell_type": "code",
   "execution_count": null,
   "metadata": {},
   "outputs": [],
   "source": [
    "if prettyDebug:\n",
    "    sep_print(\"Unparallelized QASMTarget:\", sleepTimeSec=1)\n",
    "    pprint(target.emit(circuit))"
   ]
  },
  {
   "cell_type": "markdown",
   "metadata": {},
   "source": [
    "### Parallelisation Pass\n",
    "The NativeParallelisationPass applies the native UOpToParallel pass to gather parallel CZ and U gates where possible"
   ]
  },
  {
   "cell_type": "code",
   "execution_count": null,
   "metadata": {},
   "outputs": [],
   "source": [
    "if doNativeParallelisation:\n",
    "    passes.NativeParallelisationPass(circuit)\n",
    "    print(\"Metrics after nativeParallelise: \")\n",
    "    metrics.print_gate_counts(target.emit(circuit))\n",
    "\n",
    "if prettyDebug:\n",
    "    sep_print(\"NativeParallelised circuit: \", sleepTimeSec=2)\n",
    "    pprint(QASM2Target(allow_parallel=False).emit(circuit))\n"
   ]
  },
  {
   "cell_type": "code",
   "execution_count": null,
   "metadata": {},
   "outputs": [],
   "source": [
    "if printSSA:\n",
    "    circuit.print()"
   ]
  },
  {
   "cell_type": "markdown",
   "metadata": {},
   "source": [
    "## Fidelity Evaluation\n",
    "Finally, evaluates the fidelity of the final optimized circuit with respect to the original unoptimized version"
   ]
  },
  {
   "cell_type": "code",
   "execution_count": null,
   "metadata": {},
   "outputs": [],
   "source": [
    "qc_final = utils.circuit_to_qiskit(circuit)\n",
    "\n",
    "fidelity = validate(qc_initial, qc_final)\n",
    "\n",
    "if fidelity > 0.8:\n",
    "    filepath = f\"../out_compiler/{output_name}.qasm\" \n",
    "    print(\"Fidelity high enough. Exporting to QASM \", filepath)\n",
    "    with open(filepath, \"w\") as out:\n",
    "        out.write(target.emit_str(circuit))"
   ]
  },
  {
   "cell_type": "markdown",
   "metadata": {},
   "source": [
    "Display the optimized circuit"
   ]
  },
  {
   "cell_type": "code",
   "execution_count": null,
   "metadata": {},
   "outputs": [],
   "source": [
    "fig = qc_final.draw(output=\"mpl\", fold=120, scale=0.7)\n",
    "display(fig)"
   ]
  }
 ],
 "metadata": {
  "kernelspec": {
   "display_name": "env",
   "language": "python",
   "name": "python3"
  },
  "language_info": {
   "codemirror_mode": {
    "name": "ipython",
    "version": 3
   },
   "file_extension": ".py",
   "mimetype": "text/x-python",
   "name": "python",
   "nbconvert_exporter": "python",
   "pygments_lexer": "ipython3",
   "version": "3.10.12"
  }
 },
 "nbformat": 4,
 "nbformat_minor": 2
}
