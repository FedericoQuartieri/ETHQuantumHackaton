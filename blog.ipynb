{
 "cells": [
  {
   "cell_type": "markdown",
   "metadata": {},
   "source": [
    "# Introduction\n",
    "\n",
    "We are proud to share that we won QuEra Computing’s challenge at the ETH Zurich Quantum Hackathon. The event spanned three intense and rewarding days. After the opening keynote, we were introduced to the five available challenges and had the opportunity to briefly visit ETH Zurich’s cutting-edge research facilities. Among the proposed topics, we were particularly drawn to QuEra’s challenge, which focused on optimizing quantum circuits for their neutral-atom quantum computing hardware, a problem that resonated strongly with our background in Computer Engineering and High Performance Computing.\n",
    "\n",
    "On the second day, we met Pedro and John from the QuEra Computing team, who presented the technical details of the task and provided valuable guidance throughout the competition. Once the challenge was fully explained, the 25-hour countdown began—and so did our focused effort.\n",
    "\n",
    "As this was our first hackathon experience, we found it to be deeply educational, technically demanding, and ultimately very fulfilling. What set our team apart was our distinctive approach, different from that of most other participants, shaped by our perspective as computer engineers.\n",
    "\n",
    "In this post, we share our experience and reflect on the process that led us to our final solution.\n"
   ]
  },
  {
   "cell_type": "markdown",
   "metadata": {},
   "source": [
    "# Our Approach\n",
    "\n",
    "During the initial phase of the challenge, we dedicated our time to understand the provided resources: the detailed challenge description document, associated academic papers, and tutorial notebooks showcasing QuEra’s software tools. This foundational phase was crucial for building a strong conceptual framework.\n",
    "\n",
    "In subsequent discussions with John and Pedro, we realized there was an opportunity to delve deeper into their software infrastructure. Using built-in debugging features, we explored the internal architecture of their compiler, which allowed us to gain insights and  design our own optimization passes.\n",
    "\n",
    "As we entered the second half of the challenge, we  split our efforts into two parallel tasks to maximize efficiency during the intensive overnight session:\n",
    "\n",
    "- One subgroup focused on developing custom optimization passes.\n",
    "- The other subgroup worked on manually analyzing and parallelizing circuits.\n",
    "\n",
    "To objectively evaluate our results, we established a set of clear metrics, prioritized as follows:\n",
    "1. Fidelity – ensuring that the optimized circuits maintained equivalence to the originals.\n",
    "2. Total CZ gate count – more relevant than U gates due to the higher cost of CZ gates.\n",
    "3. Total U gate count – aiming to minimize overall gate usage.\n",
    "4. Parallel CZ gate count.\n",
    "5. Parallel U gate count.\n",
    "\n",
    "Ideal optimization corresponds to fidelity close to 1 and minimized gate counts, with a high degree of parallelization.\n"
   ]
  },
  {
   "cell_type": "markdown",
   "metadata": {},
   "source": [
    "## Passes\n",
    "\n",
    "As mentioned earlier, our computer science background played a crucial role in shaping our approach to this challenge, both positively and negatively. Unlike other teams, we dedicated nearly half of the hackathon to thoroughly understanding and exploring the libraries provided. While this initially slowed us down, it ultimately became one of the key reasons for our success.\n",
    "\n",
    "Rather than focusing solely on manual optimization, we invested significant effort into automating the process. Our goal was not only to solve the specific challenge, but also to develop a scalable method, one that could be generalized and applied to a broader class of quantum circuits.\n",
    "\n",
    "This mindset led us to design and implement a set of custom optimization passes, extending those already available in the Bloqade library.\n",
    "\n",
    "\n",
    "Each pass was specifically crafted to address bottlenecks identified during initial profiling of the circuits. \n",
    "These passes included:\n",
    "\n",
    "- Redundant Gate Elimination: removes 2pi gates that are introduced during the internal Rewrite\n",
    "- U Gate Merge Pass: combines adjacent single-qubit gates to reduce overhead\n",
    "\n",
    "We also used native passes from the Bloqade library:\n",
    "\n",
    "- Rydberg Gate Set Rewrite: this pass translates all gates in the given circuits into CZ and U gates (the hardware gate set)\n",
    "- UOpToParallel: this pass identifies and rewrites gates that can be parallelized\n",
    "\n",
    "The following code cells allow you to try these passes and freely experiment."
   ]
  },
  {
   "cell_type": "code",
   "execution_count": null,
   "metadata": {},
   "outputs": [],
   "source": [
    "# Run this cell to import the required libraries\n",
    "import utils\n",
    "import sys, os\n",
    "\n",
    "import passes\n",
    "import metrics\n",
    "from validate import validate, validateAncillaExecute, validateAncilla\n",
    "from kirin.ir.method import Method\n",
    "\n",
    "from bloqade import qasm2\n",
    "from bloqade.qasm2.passes import UOpToParallel\n",
    "\n",
    "import warnings\n",
    "warnings.filterwarnings(\"ignore\")\n",
    "\n",
    "from bloqade.qasm2.rewrite.native_gates import RydbergGateSetRewriteRule\n",
    "from kirin.rewrite import Walk\n",
    "\n",
    "from bloqade.qasm2.emit import QASM2 as QASM2Target # the QASM2 target\n",
    "from bloqade.qasm2.parse import pprint # the QASM2 pretty printer\n",
    "\n",
    "# These are required to output the QASM after the optimizations\n",
    "targetParallel = QASM2Target(allow_parallel=True)\n",
    "targetSequential = QASM2Target(allow_parallel=False)"
   ]
  },
  {
   "cell_type": "markdown",
   "metadata": {},
   "source": [
    "The following cells allow you to import the QASM files, select the circuit to work on, and inspect the circuit state."
   ]
  },
  {
   "cell_type": "code",
   "execution_count": null,
   "metadata": {},
   "outputs": [],
   "source": [
    "# Run this to import all the QASM files as circuits ready for processing\n",
    "# Note: you can re-run this later to reset all circuits to their original state\n",
    "programs = utils.importQASM(input_folder)"
   ]
  },
  {
   "cell_type": "code",
   "execution_count": null,
   "metadata": {},
   "outputs": [],
   "source": [
    "# Select here the circuit you want to run passes on\n",
    "# Names range from 1-4, we also made 1_improved, 3_improved and 4_improved\n",
    "circuit = programs[\"4_improved\"]\n",
    "\n",
    "# We store the initial qiskit circuit for validation at the end\n",
    "qc_initial = utils.circuit_to_qiskit(circuit)\n"
   ]
  },
  {
   "cell_type": "code",
   "execution_count": null,
   "metadata": {},
   "outputs": [],
   "source": [
    "# Run this any time to check the fidelity of the circuit in the current state\n",
    "# Note: passes apply changes in-place, but we stored the initial state in qc_initial above\n",
    "qc_current = utils.circuit_to_qiskit(circuit)\n",
    "validate(qc_initial, qc_current)"
   ]
  },
  {
   "cell_type": "code",
   "execution_count": null,
   "metadata": {},
   "outputs": [],
   "source": [
    "# Run this at any time if you want to see the QASM2 (with parallel gates after the UOpToParallel pass!)\n",
    "# Since the circuit is modified in-place by the passes, you can re-run this after executing passes to see the updated result!\n",
    "pprint(targetParallel.emit(circuit))"
   ]
  },
  {
   "cell_type": "code",
   "execution_count": null,
   "metadata": {},
   "outputs": [],
   "source": [
    "# This is a duplicate of the previous cell to allow you to compare outputs\n",
    "pprint(targetParallel.emit(circuit))"
   ]
  },
  {
   "cell_type": "code",
   "execution_count": null,
   "metadata": {},
   "outputs": [],
   "source": [
    "# As for the previous cell, this allows you to see the SSA representation internal to the compiler, in case you're interested\n",
    "# Note: this is much longer and less intuitive than the QASM2\n",
    "circuit.print()"
   ]
  },
  {
   "cell_type": "code",
   "execution_count": null,
   "metadata": {},
   "outputs": [],
   "source": [
    "# Duplicate cell, as before, useful to compare outputs\n",
    "circuit.print()"
   ]
  },
  {
   "cell_type": "markdown",
   "metadata": {},
   "source": [
    "Below, you can find all the passes. Each cell runs one pass and prints the updated metrics."
   ]
  },
  {
   "cell_type": "code",
   "execution_count": null,
   "metadata": {},
   "outputs": [],
   "source": [
    "# The RydbergRewrite pass modifies the circuit in-place.\n",
    "# It substitutes each gate with its hardware gate-set equivalent\n",
    "print(\"Metrics before RydbergRewrite: \")\n",
    "metrics.print_gate_counts(targetParallel.emit(circuit))\n",
    "\n",
    "Walk(RydbergGateSetRewriteRule(circuit.dialects)).rewrite(circuit.code)\n",
    "\n",
    "print(\"#\"*20)\n",
    "print(\"Metrics after RydbergRewrite: \")\n",
    "metrics.print_gate_counts(targetParallel.emit(circuit))"
   ]
  },
  {
   "cell_type": "code",
   "execution_count": null,
   "metadata": {},
   "outputs": [],
   "source": [
    "# The Remove2PiGates pass removes redundant 2pi gates that are introduced during the previous rewrite.\n",
    "# We use this helper function here to allow easier access to the passes, so you can experiment their effects.\n",
    "# The full implementation can be found in the footnote\n",
    "print(\"Metrics before Remove2PiGates: \")\n",
    "metrics.print_gate_counts(targetParallel.emit(circuit))\n",
    "\n",
    "passes.Remove2PiGates(circuit.dialects)(circuit)\n",
    "metrics.print_gate_counts(targetParallel.emit(circuit))\n",
    "\n",
    "print(\"#\"*20)\n",
    "print(\"Metrics after Remove2PiGates: \")\n",
    "metrics.print_gate_counts(targetParallel.emit(circuit))"
   ]
  },
  {
   "cell_type": "code",
   "execution_count": null,
   "metadata": {},
   "outputs": [],
   "source": [
    "# The MergeConsecutiveU pass merges adjacent single-qubit gates to reduce gate count.\n",
    "# As above, the full implementation is in the footnote\n",
    "# Note: we recommend running the merge pass *before* UOpToParallel\n",
    "print(\"Metrics before MERGE: \")\n",
    "metrics.print_gate_counts(targetParallel.emit(circuit))\n",
    "\n",
    "passes.MergeConsecutiveU(circuit.dialects)(circuit)\n",
    "\n",
    "print(\"#\"*20)\n",
    "print(\"Metrics after MERGE: \")\n",
    "metrics.print_gate_counts(targetParallel.emit(circuit))"
   ]
  },
  {
   "cell_type": "code",
   "execution_count": null,
   "metadata": {},
   "outputs": [],
   "source": [
    "# The UOpToParallel pass optimizes the circuit by parallelizing gates where possible.\n",
    "print(\"Metrics before UOpToParallel: \")\n",
    "metrics.print_gate_counts(targetParallel.emit(circuit))\n",
    "\n",
    "UOpToParallel(circuit.dialects)(circuit)\n",
    "\n",
    "print(\"#\"*20)\n",
    "print(\"Metrics after UOpToParallel: \")\n",
    "metrics.print_gate_counts(targetParallel.emit(circuit))"
   ]
  },
  {
   "cell_type": "markdown",
   "metadata": {},
   "source": [
    "## Manual Optimization\n",
    "\n",
    "The main point was parallelizing CZ gates thanks to QuEra's unique architecture, but for all the given circuits we adpoted the same approach:\n",
    "\n",
    "1. Initial inspection to analyze gate dependencies and overall structure \n",
    "2. Transformation into an equivalent but more parallel-friendly circuit layout\n",
    "3. Strategic reordering of gates to maximize parallel execution\n",
    "4. Careful validation of results by verifying the fidelity between the improved and the original circuits\n",
    "\n",
    "\n",
    "### Surface Code\n",
    "\n",
    "To better explain this technique, we present here as an example the job done on circuit number 4 (surface code encoding circuit). \n",
    "This is how the initial circuit was like:"
   ]
  },
  {
   "cell_type": "markdown",
   "metadata": {},
   "source": [
    "![Circuit 4](inputs_images/4.png)"
   ]
  },
  {
   "cell_type": "markdown",
   "metadata": {},
   "source": [
    "We begin by identifying five redundant gates—specifically, the initial CNOT gates whose control qubits are in the ∣0⟩ state. These gates have no effect on the quantum state and can therefore be safely removed. The next objective is to reorder the remaining CNOT gates in a way that both preserves the correctness of the circuit and maximizes parallelism. This is crucial, as the target architecture allows for the simultaneous execution of multiple gates in a single time step, provided that no two gates act on the same qubit. Doing this the result obtained was this one:"
   ]
  },
  {
   "cell_type": "markdown",
   "metadata": {},
   "source": [
    "![Circuit 4](inputs_images/4_improved.png)"
   ]
  },
  {
   "cell_type": "markdown",
   "metadata": {},
   "source": [
    "By examining the updated circuit diagram, we can observe that the entire sequence can now be executed in just four steps. To further assist the optimizer in producing a more efficient layout, we inserted barriers between groups of non-overlapping CNOT gates. These barriers explicitly define sets of operations that can be safely parallelized, improving both the structure and the readability of the circuit.\n",
    "\n",
    "During the challenge, we realized that circuits of this kind can be parallelized algorithmically. In fact, the entire process can be automated by following these steps:\n",
    "\n",
    "1. Identify all qubits on which a Hadamard gate is applied.\n",
    "\n",
    "2. Track CNOT gate roles, recording for each qubit how many times it acts as a target and with which control qubits it is paired.\n",
    "\n",
    "3. Reorder CNOT gates, prioritizing two categories of qubits:\n",
    "\n",
    "    - Qubits that are the target of only one CNOT gate (as they can act as control qubits in later steps),\n",
    "\n",
    "    - Qubits that are the target of the highest number of CNOT gates (since each targeting requires a distinct step).\n",
    "\n",
    "4. Insert barriers to define execution layers and enforce parallelism constraints.\n",
    "\n",
    "For instance, in the optimized version of the circuit, the bottleneck is represented by qubit 11, which is the target of three CNOT gates. However, the first step is allocated to CNOT gates acting on qubits that can serve as control qubits in subsequent layers, thus enabling deeper parallelization later on.\n",
    "Such a parallelization algorithm can be implemented in several ways:\n",
    "\n",
    "- Priority queue scheduling of CNOTs  \n",
    "- Greedy layering approach  \n",
    "- Integer Linear Programming formulation  \n",
    "- Graph-coloring-based layer assignment  \n",
    "- Machine learning–based prediction (with sufficient training data)  "
   ]
  },
  {
   "cell_type": "markdown",
   "metadata": {},
   "source": [
    "## Priority-Queue–Driven Parallelization\n",
    "\n",
    "During the challenge, we realized that circuits of this kind can be parallelized algorithmically. The entire process can be automated using a **priority queue–driven scheduler**, following these high-level steps:\n",
    "\n",
    "1. **Identify active qubits**  \n",
    "   Mark all qubits on which a Hadamard gate is applied—these are the only qubits that will participate in subsequent CNOT operations.\n",
    "\n",
    "2. **Gather CNOT statistics**  \n",
    "   For each remaining CNOT gate, record its control–target pair and count how many times each qubit appears as a target.\n",
    "\n",
    "3. **Initialize the priority queue**  \n",
    "   Insert every qubit with at least one pending CNOT into a priority queue, using its target-count as the priority key (higher counts → higher priority).\n",
    "\n",
    "4. **Build execution layers**  \n",
    "   - Create a new layer and track which qubits are already used in it.  \n",
    "   - Repeatedly extract the highest-priority qubit from the queue.  \n",
    "   - Schedule any unscheduled CNOT where this qubit is the target and whose control qubit is free in the current layer.  \n",
    "   - Mark both qubits as used to avoid conflicts.\n",
    "\n",
    "5. **Barrier insertion and queue refresh**  \n",
    "   After filling a layer, insert a barrier to delineate it. Reinsert into the queue any qubits that still have pending CNOTs (with their updated target counts).\n",
    "\n",
    "6. **Repeat until completion**  \n",
    "   Continue layering, barrier insertion, and queue updates until every CNOT gate has been assigned to a layer—yielding a fully parallelized circuit.\n",
    "\n",
    "---\n",
    "\n",
    "### Note on Machine-Learning–Based Scheduling\n",
    "\n",
    "As an alternative to this heuristic, one could explore **machine-learning** schedulers—e.g., reinforcement-learning agents or graph-neural-network models—that learn gate-scheduling policies from data. Such approaches may uncover non-obvious parallelism patterns but require substantial training examples, a simulation environment for reward feedback, and careful integration of hard hardware constraints.\n"
   ]
  },
  {
   "cell_type": "markdown",
   "metadata": {},
   "source": [
    "# Conclusion"
   ]
  },
  {
   "cell_type": "markdown",
   "metadata": {},
   "source": [
    "# Footnote - Passes full implementation"
   ]
  },
  {
   "cell_type": "code",
   "execution_count": 1,
   "metadata": {},
   "outputs": [],
   "source": [
    "# Here full implementation"
   ]
  }
 ],
 "metadata": {
  "kernelspec": {
   "display_name": "Python 3",
   "language": "python",
   "name": "python3"
  },
  "language_info": {
   "codemirror_mode": {
    "name": "ipython",
    "version": 3
   },
   "file_extension": ".py",
   "mimetype": "text/x-python",
   "name": "python",
   "nbconvert_exporter": "python",
   "pygments_lexer": "ipython3",
   "version": "3.11.9"
  }
 },
 "nbformat": 4,
 "nbformat_minor": 2
}
