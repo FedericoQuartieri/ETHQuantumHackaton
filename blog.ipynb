{
 "cells": [
  {
   "cell_type": "markdown",
   "metadata": {},
   "source": [
    "# Introduction\n",
    "\n",
    "We are proud to share that we won QuEra Computing’s challenge at the ETH Zurich Quantum Hackathon. The event spanned three intense and rewarding days. After the opening keynote, we were introduced to the five available challenges and had the opportunity to briefly visit ETH Zurich’s cutting-edge research facilities. Among the proposed topics, we were particularly drawn to QuEra’s challenge, which focused on optimizing quantum circuits for their neutral-atom quantum computing hardware, a problem that resonated strongly with our background in Computer Engineering and High Performance Computing.\n",
    "\n",
    "On the second day, we met Pedro and John from the QuEra Computing team, who presented the technical details of the task and provided valuable guidance throughout the competition. Once the challenge was fully explained, the 25-hour countdown began—and so did our focused effort.\n",
    "\n",
    "As this was our first hackathon experience, we found it to be deeply educational, technically demanding, and ultimately very fulfilling. What set our team apart was our distinctive approach, different from that of most other participants, shaped by our perspective as computer engineers.\n",
    "\n",
    "In this post, we share our experience and reflect on the process that led us to our final solution.\n"
   ]
  },
  {
   "cell_type": "markdown",
   "metadata": {},
   "source": [
    "# Our Approach\n",
    "\n",
    "During the initial phase of the challenge, we dedicated our time to understand the provided resources: the detailed challenge description document, associated academic papers, and tutorial notebooks showcasing QuEra’s software tools. This foundational phase was crucial for building a strong conceptual framework.\n",
    "\n",
    "In subsequent discussions with John and Pedro, we realized there was an opportunity to delve deeper into their software infrastructure. Using built-in debugging features, we explored the internal architecture of their compiler, which allowed us to gain insights and  design our own optimization passes.\n",
    "\n",
    "As we entered the second half of the challenge, we  split our efforts into two parallel tasks to maximize efficiency during the intensive overnight session:\n",
    "\n",
    "- One subgroup focused on developing custom optimization passes.\n",
    "- The other subgroup worked on manually analyzing and parallelizing circuits.\n",
    "\n",
    "To objectively evaluate our results, we established a set of clear metrics, prioritized as follows:\n",
    "1. Fidelity – ensuring that the optimized circuits maintained equivalence to the originals.\n",
    "2. Parallel CZ gate count – more relevant than U gates due to the higher cost of CZ gates.\n",
    "3. Parallel U gate count.\n",
    "4. Sequential CZ gate count.\n",
    "5. Sequential U gate count.\n",
    "\n",
    "Ideal optimization corresponds to fidelity close to 1 and minimized gate counts, with a high degree of parallelization.\n"
   ]
  },
  {
   "cell_type": "markdown",
   "metadata": {},
   "source": [
    "## Passes\n",
    "\n",
    "As mentioned earlier, our computer science background played a crucial role in shaping our approach to this challenge, both positively and negatively. Unlike other teams, we dedicated nearly half of the hackathon to thoroughly understanding and exploring the libraries provided. While this initially slowed us down, it ultimately became one of the key reasons for our success.\n",
    "\n",
    "Rather than focusing solely on manual optimization, we invested significant effort into automating the process. Our goal was not only to solve the specific challenge, but also to develop a scalable method, one that could be generalized and applied to a broader class of quantum circuits.\n",
    "\n",
    "This mindset led us to design and implement a set of custom optimization passes, extending those already available in the Bloqade library.\n",
    "\n",
    "\n",
    "Each pass was specifically crafted to address bottlenecks identified during initial profiling of the circuits. \n",
    "These passes included:\n",
    "\n",
    "- Redundant Gate Elimination: removes 2pi gates that are introduced during the internal Rewrite\n",
    "- U Gate Merge Pass: combines adjacent single-qubit gates to reduce overhead\n",
    "\n",
    "We also used native passes from the Bloqade library:\n",
    "\n",
    "- Rydberg Gate Set Rewrite: this pass translates all gates in the given circuits into CZ and U gates (the hardware gate set)\n",
    "- UOpToParallel: this pass identifies and rewrites gates that can be parallelized\n",
    "\n",
    "The following code cells allow you to try these passes and freely experiment."
   ]
  },
  {
   "cell_type": "code",
   "execution_count": 1,
   "metadata": {},
   "outputs": [],
   "source": [
    "# Run this cell to import the required libraries\n",
    "import utils\n",
    "import sys, os\n",
    "\n",
    "import passes\n",
    "import metrics\n",
    "from validate import validate\n",
    "from kirin.ir.method import Method\n",
    "\n",
    "from bloqade import qasm2\n",
    "from bloqade.qasm2.passes import UOpToParallel\n",
    "\n",
    "import warnings\n",
    "warnings.filterwarnings(\"ignore\")\n",
    "\n",
    "from bloqade.qasm2.rewrite.native_gates import RydbergGateSetRewriteRule\n",
    "from kirin.rewrite import Walk\n",
    "\n",
    "from bloqade.qasm2.emit import QASM2 as QASM2Target # the QASM2 target\n",
    "from bloqade.qasm2.parse import pprint # the QASM2 pretty printer\n",
    "\n",
    "# These are required to output the QASM after the optimizations\n",
    "targetParallel = QASM2Target(allow_parallel=True)\n",
    "targetSequential = QASM2Target(allow_parallel=False)"
   ]
  },
  {
   "cell_type": "markdown",
   "metadata": {},
   "source": [
    "The following cells allow you to import the QASM files, select the circuit to work on, and inspect the circuit state."
   ]
  },
  {
   "cell_type": "code",
   "execution_count": 1,
   "metadata": {},
   "outputs": [
    {
     "ename": "NameError",
     "evalue": "name 'utils' is not defined",
     "output_type": "error",
     "traceback": [
      "\u001b[31m---------------------------------------------------------------------------\u001b[39m",
      "\u001b[31mNameError\u001b[39m                                 Traceback (most recent call last)",
      "\u001b[36mCell\u001b[39m\u001b[36m \u001b[39m\u001b[32mIn[1]\u001b[39m\u001b[32m, line 3\u001b[39m\n\u001b[32m      1\u001b[39m \u001b[38;5;66;03m# Run this to import all the QASM files as circuits ready for processing\u001b[39;00m\n\u001b[32m      2\u001b[39m \u001b[38;5;66;03m# Note: you can re-run this later to reset all circuits to their original state\u001b[39;00m\n\u001b[32m----> \u001b[39m\u001b[32m3\u001b[39m programs = \u001b[43mutils\u001b[49m.importQASM(\u001b[33m'\u001b[39m\u001b[33minputs\u001b[39m\u001b[33m'\u001b[39m)\n",
      "\u001b[31mNameError\u001b[39m: name 'utils' is not defined"
     ]
    }
   ],
   "source": [
    "# Run this to import all the QASM files as circuits ready for processing\n",
    "# Note: you can re-run this later to reset all circuits to their original state\n",
    "programs = utils.importQASM('inputs')"
   ]
  },
  {
   "cell_type": "code",
   "execution_count": null,
   "metadata": {},
   "outputs": [],
   "source": [
    "# Select here the circuit you want to run passes on\n",
    "# Names range from 1-4, we also made 1_improved, 3_improved and 4_improved\n",
    "circuit = programs[\"4_improved\"]\n",
    "\n",
    "# We store the initial qiskit circuit for validation at the end\n",
    "qc_initial = utils.circuit_to_qiskit(circuit)\n"
   ]
  },
  {
   "cell_type": "code",
   "execution_count": null,
   "metadata": {},
   "outputs": [],
   "source": [
    "# Run this any time to check the fidelity of the circuit in the current state\n",
    "# Note: passes apply changes in-place, but we stored the initial state in qc_initial above\n",
    "qc_current = utils.circuit_to_qiskit(circuit)\n",
    "validate(qc_initial, qc_current)"
   ]
  },
  {
   "cell_type": "code",
   "execution_count": null,
   "metadata": {},
   "outputs": [],
   "source": [
    "# Run this at any time if you want to see the QASM2 (with parallel gates after the UOpToParallel pass!)\n",
    "# Since the circuit is modified in-place by the passes, you can re-run this after executing passes to see the updated result!\n",
    "pprint(targetParallel.emit(circuit))"
   ]
  },
  {
   "cell_type": "code",
   "execution_count": null,
   "metadata": {},
   "outputs": [],
   "source": [
    "# This is a duplicate of the previous cell to allow you to compare outputs\n",
    "pprint(targetParallel.emit(circuit))"
   ]
  },
  {
   "cell_type": "code",
   "execution_count": null,
   "metadata": {},
   "outputs": [],
   "source": [
    "# As for the previous cell, this allows you to see the SSA representation internal to the compiler, in case you're interested\n",
    "# Note: this is much longer and less intuitive than the QASM2\n",
    "circuit.print()"
   ]
  },
  {
   "cell_type": "code",
   "execution_count": null,
   "metadata": {},
   "outputs": [],
   "source": [
    "# Duplicate cell, as before, useful to compare outputs\n",
    "circuit.print()"
   ]
  },
  {
   "cell_type": "markdown",
   "metadata": {},
   "source": [
    "Below, you can find all the passes. Each cell runs one pass and prints the updated metrics."
   ]
  },
  {
   "cell_type": "code",
   "execution_count": null,
   "metadata": {},
   "outputs": [],
   "source": [
    "# The RydbergRewrite pass modifies the circuit in-place.\n",
    "# It substitutes each gate with its hardware gate-set equivalent\n",
    "print(\"Metrics before RydbergRewrite: \")\n",
    "metrics.print_gate_counts(targetParallel.emit(circuit))\n",
    "\n",
    "Walk(RydbergGateSetRewriteRule(circuit.dialects)).rewrite(circuit.code)\n",
    "\n",
    "print(\"#\"*20)\n",
    "print(\"Metrics after RydbergRewrite: \")\n",
    "metrics.print_gate_counts(targetParallel.emit(circuit))"
   ]
  },
  {
   "cell_type": "code",
   "execution_count": null,
   "metadata": {},
   "outputs": [],
   "source": [
    "# The Remove2PiGates pass removes redundant 2pi gates that are introduced during the previous rewrite.\n",
    "# We use this helper function here to allow easier access to the passes, so you can experiment their effects.\n",
    "# The full implementation can be found in the footnote\n",
    "print(\"Metrics before Remove2PiGates: \")\n",
    "metrics.print_gate_counts(targetParallel.emit(circuit))\n",
    "\n",
    "passes.Remove2PiGates(circuit.dialects)(circuit)\n",
    "metrics.print_gate_counts(targetParallel.emit(circuit))\n",
    "\n",
    "print(\"#\"*20)\n",
    "print(\"Metrics after Remove2PiGates: \")\n",
    "metrics.print_gate_counts(targetParallel.emit(circuit))"
   ]
  },
  {
   "cell_type": "code",
   "execution_count": null,
   "metadata": {},
   "outputs": [],
   "source": [
    "# The MergeConsecutiveU pass merges adjacent single-qubit gates to reduce gate count.\n",
    "# As above, the full implementation is in the footnote\n",
    "# Note: we recommend running the merge pass *before* UOpToParallel\n",
    "print(\"Metrics before MERGE: \")\n",
    "metrics.print_gate_counts(targetParallel.emit(circuit))\n",
    "\n",
    "passes.MergeConsecutiveU(circuit.dialects)(circuit)\n",
    "\n",
    "print(\"#\"*20)\n",
    "print(\"Metrics after MERGE: \")\n",
    "metrics.print_gate_counts(targetParallel.emit(circuit))"
   ]
  },
  {
   "cell_type": "code",
   "execution_count": null,
   "metadata": {},
   "outputs": [],
   "source": [
    "# The UOpToParallel pass optimizes the circuit by parallelizing gates where possible.\n",
    "print(\"Metrics before UOpToParallel: \")\n",
    "metrics.print_gate_counts(targetParallel.emit(circuit))\n",
    "\n",
    "UOpToParallel(circuit.dialects)(circuit)\n",
    "\n",
    "print(\"#\"*20)\n",
    "print(\"Metrics after UOpToParallel: \")\n",
    "metrics.print_gate_counts(targetParallel.emit(circuit))"
   ]
  },
  {
   "cell_type": "markdown",
   "metadata": {},
   "source": [
    "## Manual Optimization\n",
    "\n",
    "The main point was parallelizing CZ gates thanks to QuEra's unique architecture, but for all the given circuits we adpoted the same approach:\n",
    "\n",
    "1. Initial inspection to analyze gate dependencies and overall structure \n",
    "2. Transformation into an equivalent but more parallel-friendly circuit layout\n",
    "3. Strategic reordering of gates to maximize parallel execution\n",
    "4. Careful validation of results by verifying the fidelity between the improved and the original circuits\n",
    "\n",
    "\n",
    "### Surface Code\n",
    "\n",
    "To better explain this technique, we present here as an example the job done on circuit number 4 (surface code encoding circuit). \n",
    "This is how the initial circuit was like:"
   ]
  },
  {
   "cell_type": "markdown",
   "metadata": {},
   "source": [
    "![Circuit 4](inputs_images/4.png)"
   ]
  },
  {
   "cell_type": "markdown",
   "metadata": {},
   "source": [
    "We begin by identifying five redundant gates—specifically, the initial CNOT gates whose control qubits are in the ∣0⟩ state. These gates have no effect on the quantum state and can therefore be safely removed. The next objective is to reorder the remaining CNOT gates in a way that both preserves the correctness of the circuit and maximizes parallelism. This is crucial, as the target architecture allows for the simultaneous execution of multiple gates in a single time step, provided that no two gates act on the same qubit. Doing this the result obtained was this one:"
   ]
  },
  {
   "cell_type": "markdown",
   "metadata": {},
   "source": [
    "![Circuit 4](inputs_images/4_improved.png)"
   ]
  },
  {
   "cell_type": "markdown",
   "metadata": {},
   "source": [
    "By examining the updated circuit diagram, we can observe that the entire sequence can now be executed in just four steps. To further assist the optimizer in producing a more efficient layout, we inserted barriers between groups of non-overlapping CNOT gates. These barriers explicitly define sets of operations that can be safely parallelized, improving both the structure and the readability of the circuit.\n",
    "\n",
    "During the challenge, we realized that circuits of this kind can be parallelized algorithmically. In fact, the entire process can be automated by following these steps:\n",
    "\n",
    "1. Identify all qubits on which a Hadamard gate is applied.\n",
    "\n",
    "2. Spot and remove all CNOTs controlled by qubits in state |0>.\n",
    "\n",
    "3. Track CNOT gate roles, recording for each qubit how many times it acts as a target and with which control qubits it is paired.\n",
    "\n",
    "4. Reorder CNOT gates, prioritizing two categories of qubits:\n",
    "\n",
    "    - Qubits that are the target of only one CNOT gate (as they can act as control qubits in later steps),\n",
    "\n",
    "    - Qubits that are the target of the highest number of CNOT gates (since each targeting requires a distinct step).\n",
    "\n",
    "5. Insert barriers to define execution layers and enforce parallelism constraints.\n",
    "\n",
    "For instance, in the optimized version of the circuit, the bottleneck is represented by qubit 11, which is the target of three CNOT gates. However, the first step is allocated to CNOT gates acting on qubits that can serve as control qubits in subsequent layers, thus enabling deeper parallelization later on.\n",
    "Such a parallelization algorithm can be implemented in several ways:\n",
    "\n",
    "- Priority queue scheduling of CNOTs  \n",
    "- Greedy layering approach  \n",
    "- Integer Linear Programming formulation  \n",
    "- Graph-coloring-based layer assignment  \n",
    "\n",
    "As an alternative to this heuristic, one could explore machine-learning schedulers—e.g., reinforcement-learning agents or graph-neural-network models—that learn gate-scheduling policies from data. Such approaches may uncover non-obvious parallelism patterns but require substantial training examples, a simulation environment for reward feedback, and careful integration of hard hardware constraints."
   ]
  },
  {
   "cell_type": "markdown",
   "metadata": {},
   "source": [
    "### Quantum Fourier Transform\n",
    "\n",
    "\n",
    "Another example of manual optimization was in Circuit 1 (QFT). We began by applying a series of manual optimization passes, which we will not examine in detail here for simplicity, but the most significant enhancement comes from the manual transformation of the circuit shown below. Like the Surface Code circuit, the QFT can be seen as an algorithm whose structured dependencies originally limited parallel execution.\n",
    "\n",
    "#### Unoptimized Circuit  \n",
    "\n",
    "![Modified Circuit 1](inputs_images/1_modified.png)  \n",
    "\n",
    "#### Ancilla-Mediated Fan-Out Technique\n",
    "\n",
    "1. **Ancilla Preparation**  \n",
    "   - Introduce an ancilla qubit.  \n",
    "   - Prepare it in the same state as the original control qubit using a small GHZ subcircuit.  \n",
    "\n",
    "2. **Control Replacement**  \n",
    "   - For each CNOT (except one) sharing the same original control, switch the control to the ancilla.  \n",
    "   - Parallelize CNOTs that do not share the control qubit anymore.\n",
    "\n",
    "\n",
    "The GHZ subcircuit is the parallelized one, below an example of GHZ parallelization\n",
    "\n",
    "\n",
    "<div style=\"display: flex; gap: 10px; align-items: center;\">\n",
    "  <img src=\"assets/GHZ_linear.png\" alt=\"Image 1\" height=\"300\" />\n",
    "  <img src=\"assets/GHZ_parallel.png\" alt=\"Image 2\" height=\"300\" />\n",
    "</div>\n",
    "\n",
    "\n",
    "#### Optimized Circuit  \n",
    "![Improved Circuit 1](inputs_images/1_improved.png)  \n",
    "\n",
    "By using a single ancilla, we reduce circuit depth and enable parallel application of all target CNOTs. This pattern scales naturally: with *k* ancillae prepared in an *k*-qubit GHZ state, you can redirect *k*–1 controls and execute *k* CNOTs simultaneously. The examples below illustrate this generalization:\n",
    "\n",
    "\n",
    "\n",
    "<div style=\"display: flex; gap: 10px; align-items: center;\">\n",
    "  <img src=\"inputs_images/qft2.png\" alt=\"Image 1\" height=\"300\" />\n",
    "  <img src=\"inputs_images/qft2_improved.png\" alt=\"Image 2\" height=\"300\" />\n",
    "</div>\n"
   ]
  },
  {
   "cell_type": "markdown",
   "metadata": {},
   "source": [
    "# Conclusion"
   ]
  },
  {
   "cell_type": "markdown",
   "metadata": {},
   "source": [
    "By combining our custom optimization passes with manual parallelization techniques, we achieved results that outperformed either method on their own.\n",
    "\n",
    "For instance, the improvements in key performance metrics were significant, as described in the following table:\n",
    "\n",
    "| Metric        | 3q QFT | 3q QFT opt. | 5q QFT | 5q QFT opt. | QAOA | QAOA opt. | Steane | Steane opt. | Surface | Surface opt. |\n",
    "|:-------------:|:------:|:-----------:|:------:|:-----------:|:----:|:---------:|:------:|:-----------:|:-------:|:------------:|\n",
    "| Parallel CZ   |   0    |      2      |   0    |      3      |  0   |     0     |   0    |      4      |    0    |      4       |\n",
    "| Parallel U    |   0    |      4      |   0    |      9      |  0   |    15     |   0    |     16      |    0    |     13       |\n",
    "| Sequential CZ |  37    |     17      |  54    |     12      | 264  |   189     |  124   |     49      |   84    |      3       |\n",
    "| Sequential U  |   7    |      3      |  11    |      1      | 36   |    36     |  29    |     21      |   19    |      1       |\n",
    "\n",
    "\n",
    "\n",
    "These results demonstrate the effectiveness of our approach in reducing depth, minimizing gate count, and maximizing parallel execution. More importantly, the methodology we developed is highly scalable and modular, making it suitable for more complex circuits. Our design also emphasizes the automation of parallelization, a crucial factor for future compiler pipelines targeting hardware with strong architectural constraints.\n",
    "\n",
    "By combining manual insight with compiler-level tools, we believe our approach offers a promising path toward efficient and hardware-aware quantum circuit optimization."
   ]
  },
  {
   "cell_type": "markdown",
   "metadata": {},
   "source": [
    "# Footnote - Passes full implementation"
   ]
  },
  {
   "cell_type": "code",
   "execution_count": 1,
   "metadata": {},
   "outputs": [],
   "source": [
    "# Here full implementation"
   ]
  }
 ],
 "metadata": {
  "kernelspec": {
   "display_name": "Python 3",
   "language": "python",
   "name": "python3"
  },
  "language_info": {
   "codemirror_mode": {
    "name": "ipython",
    "version": 3
   },
   "file_extension": ".py",
   "mimetype": "text/x-python",
   "name": "python",
   "nbconvert_exporter": "python",
   "pygments_lexer": "ipython3",
   "version": "3.11.9"
  }
 },
 "nbformat": 4,
 "nbformat_minor": 2
}
